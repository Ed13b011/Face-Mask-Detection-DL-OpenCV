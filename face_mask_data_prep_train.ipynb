{
  "nbformat": 4,
  "nbformat_minor": 0,
  "metadata": {
    "colab": {
      "name": "face_mask_data_prep_train.ipynb",
      "provenance": [],
      "collapsed_sections": []
    },
    "kernelspec": {
      "name": "python3",
      "display_name": "Python 3"
    },
    "accelerator": "GPU"
  },
  "cells": [
    {
      "cell_type": "code",
      "metadata": {
        "id": "Y2P1pPbeV6Jl",
        "colab_type": "code",
        "colab": {}
      },
      "source": [
        "# import modules\n",
        "## computer vision\n",
        "import cv2\n",
        "## keras\n",
        "from keras.utils import np_utils\n",
        "from keras.models import Sequential\n",
        "from keras.layers import Dense, Activation, Flatten, Dropout\n",
        "from keras.layers import Conv2D, MaxPooling2D\n",
        "from keras.callbacks import ModelCheckpoint\n",
        "from keras.models import load_model\n",
        "\n",
        "##sklearn\n",
        "from sklearn.model_selection import train_test_split\n",
        "\n",
        "## matplotlib\n",
        "from matplotlib import pyplot as plt\n",
        "\n",
        "## others\n",
        "import pandas as pd\n",
        "import numpy as np\n",
        "import os"
      ],
      "execution_count": null,
      "outputs": []
    },
    {
      "cell_type": "code",
      "metadata": {
        "id": "1Lee-qFTa_lo",
        "colab_type": "code",
        "colab": {
          "base_uri": "https://localhost:8080/",
          "height": 122
        },
        "outputId": "e77a1455-77f4-4783-b132-b2a8d983f042"
      },
      "source": [
        "# mount drive to upload data\n",
        "from google.colab import drive\n",
        "drive.mount('/content/drive')"
      ],
      "execution_count": null,
      "outputs": [
        {
          "output_type": "stream",
          "text": [
            "Go to this URL in a browser: https://accounts.google.com/o/oauth2/auth?client_id=947318989803-6bn6qk8qdgf4n4g3pfee6491hc0brc4i.apps.googleusercontent.com&redirect_uri=urn%3aietf%3awg%3aoauth%3a2.0%3aoob&response_type=code&scope=email%20https%3a%2f%2fwww.googleapis.com%2fauth%2fdocs.test%20https%3a%2f%2fwww.googleapis.com%2fauth%2fdrive%20https%3a%2f%2fwww.googleapis.com%2fauth%2fdrive.photos.readonly%20https%3a%2f%2fwww.googleapis.com%2fauth%2fpeopleapi.readonly\n",
            "\n",
            "Enter your authorization code:\n",
            "··········\n",
            "Mounted at /content/drive\n"
          ],
          "name": "stdout"
        }
      ]
    },
    {
      "cell_type": "code",
      "metadata": {
        "id": "j0g1Pa3VWJ0Q",
        "colab_type": "code",
        "colab": {}
      },
      "source": [
        "# load file\n",
        "data_file = '/content/drive/My Drive/Face_Mask_Detection/'\n",
        "dir_path = os.listdir(data_file + 'dataset')\n",
        "num_labels = [i for i in range(len(dir_path))]\n",
        "label_dict = dict(zip(dir_path, num_labels))"
      ],
      "execution_count": null,
      "outputs": []
    },
    {
      "cell_type": "code",
      "metadata": {
        "id": "K8L8Fk9IWJ5m",
        "colab_type": "code",
        "colab": {
          "base_uri": "https://localhost:8080/",
          "height": 34
        },
        "outputId": "32f33433-7a77-4f2c-a262-6289b6ee66e6"
      },
      "source": [
        "num_labels, dir_path, label_dict"
      ],
      "execution_count": null,
      "outputs": [
        {
          "output_type": "execute_result",
          "data": {
            "text/plain": [
              "([0, 1], ['with mask', 'without mask'], {'with mask': 0, 'without mask': 1})"
            ]
          },
          "metadata": {
            "tags": []
          },
          "execution_count": 4
        }
      ]
    },
    {
      "cell_type": "code",
      "metadata": {
        "id": "muMVn-MAWJ9-",
        "colab_type": "code",
        "colab": {}
      },
      "source": [
        "# resize the images\n",
        "img_size = 100\n",
        "data = []\n",
        "target = []\n",
        "for category in dir_path:\n",
        "    files_path = os.path.join('/content/drive/My Drive/Face_Mask_Detection/dataset', category)\n",
        "    img_names = os.listdir(files_path)\n",
        "    \n",
        "    for img_name in img_names:\n",
        "        img_path = os.path.join(files_path, img_name)\n",
        "        img = cv2.imread(img_path)\n",
        "        \n",
        "        try: \n",
        "            gray_scale = cv2.cvtColor(img, cv2.COLOR_BGR2GRAY) # image to gray scale\n",
        "            resized = cv2.resize(gray_scale, (img_size, img_size))\n",
        "            #resizing the gray scale into 50x50, since we need a fixed common size for all the images in the dataset\n",
        "            data.append(resized)\n",
        "            target.append(label_dict[category])\n",
        "            \n",
        "        except Exception as e:\n",
        "            print('Exception:', e)"
      ],
      "execution_count": null,
      "outputs": []
    },
    {
      "cell_type": "code",
      "metadata": {
        "id": "7sHCfhoYWJ3K",
        "colab_type": "code",
        "colab": {
          "base_uri": "https://localhost:8080/",
          "height": 136
        },
        "outputId": "47bc3371-b6f0-472a-99d2-45ae902ddda8"
      },
      "source": [
        "len(target), data[0]"
      ],
      "execution_count": null,
      "outputs": [
        {
          "output_type": "execute_result",
          "data": {
            "text/plain": [
              "(1376, array([[178, 178, 179, ..., 206, 207, 206],\n",
              "        [178, 177, 175, ..., 206, 207, 206],\n",
              "        [178, 178, 178, ..., 206, 207, 206],\n",
              "        ...,\n",
              "        [123, 125, 123, ...,  53,  36,  40],\n",
              "        [123, 124, 123, ..., 105,  36,  41],\n",
              "        [121, 121, 119, ..., 178,  46,  38]], dtype=uint8))"
            ]
          },
          "metadata": {
            "tags": []
          },
          "execution_count": 7
        }
      ]
    },
    {
      "cell_type": "code",
      "metadata": {
        "id": "1Xf7vm58WS1F",
        "colab_type": "code",
        "colab": {
          "base_uri": "https://localhost:8080/",
          "height": 34
        },
        "outputId": "431c3b0c-d4fe-49d1-aafa-7de46571d3d7"
      },
      "source": [
        "# number of without mask images\n",
        "without_mask = [i for i in range(len(target)) if target[i] == 0]\n",
        "len(without_mask) # 686 without masks, 690 with_masks(one_hot=0)"
      ],
      "execution_count": null,
      "outputs": [
        {
          "output_type": "execute_result",
          "data": {
            "text/plain": [
              "690"
            ]
          },
          "metadata": {
            "tags": []
          },
          "execution_count": 8
        }
      ]
    },
    {
      "cell_type": "code",
      "metadata": {
        "id": "lKVM4SrWWS5a",
        "colab_type": "code",
        "colab": {}
      },
      "source": [
        "# save data\n",
        "data = np.array(data)/255.0 # 255 is maximum light value, dividing by 255 expresses a 0 to 1 representation. \n",
        "data = np.reshape(data, (data.shape[0], img_size, img_size, 1))\n",
        "target = np.array(target)\n",
        "\n",
        "new_target=np_utils.to_categorical(target) # to categorical one hot vectors"
      ],
      "execution_count": null,
      "outputs": []
    },
    {
      "cell_type": "code",
      "metadata": {
        "id": "wgLthhjrf5bJ",
        "colab_type": "code",
        "colab": {
          "base_uri": "https://localhost:8080/",
          "height": 34
        },
        "outputId": "30dd1b44-32e6-42e7-baa9-003fb5f463d7"
      },
      "source": [
        "data.shape"
      ],
      "execution_count": null,
      "outputs": [
        {
          "output_type": "execute_result",
          "data": {
            "text/plain": [
              "(1376, 100, 100, 1)"
            ]
          },
          "metadata": {
            "tags": []
          },
          "execution_count": 10
        }
      ]
    },
    {
      "cell_type": "code",
      "metadata": {
        "id": "aejwELwyYC15",
        "colab_type": "code",
        "colab": {}
      },
      "source": [
        "# model\n",
        "model = Sequential()\n",
        "\n",
        "#The 1st CNN layer followed by Relu and MaxPooling layers\n",
        "model.add(Conv2D(200, (3,3), input_shape=data.shape[1:]))\n",
        "model.add(Activation('relu'))\n",
        "model.add(MaxPooling2D(pool_size=(2,2)))\n",
        "\n",
        "# #The 2nd CNN layer followed by Relu and MaxPooling layers\n",
        "model.add(Conv2D(100, (3,3)))\n",
        "model.add(Activation('relu'))\n",
        "model.add(MaxPooling2D(pool_size=(2,2)))\n",
        "\n",
        "# flattern layer to stack the output convolutions from 2nd conv layer\n",
        "model.add(Flatten())\n",
        "model.add(Dropout(0.5))\n",
        "\n",
        "# Dense layer\n",
        "model.add(Dense(50, activation='relu'))\n",
        "# final layer with two outputs for two labels \n",
        "model.add(Dense(2, activation='softmax'))\n",
        "model.compile(loss='categorical_crossentropy', optimizer='adam', metrics=['accuracy'])"
      ],
      "execution_count": null,
      "outputs": []
    },
    {
      "cell_type": "code",
      "metadata": {
        "id": "kieIms2Sfvnu",
        "colab_type": "code",
        "colab": {
          "base_uri": "https://localhost:8080/",
          "height": 493
        },
        "outputId": "42b37d90-0900-4738-d0a6-9d768a024573"
      },
      "source": [
        "model.summary()"
      ],
      "execution_count": null,
      "outputs": [
        {
          "output_type": "stream",
          "text": [
            "Model: \"sequential_1\"\n",
            "_________________________________________________________________\n",
            "Layer (type)                 Output Shape              Param #   \n",
            "=================================================================\n",
            "conv2d_1 (Conv2D)            (None, 98, 98, 200)       2000      \n",
            "_________________________________________________________________\n",
            "activation_1 (Activation)    (None, 98, 98, 200)       0         \n",
            "_________________________________________________________________\n",
            "max_pooling2d_1 (MaxPooling2 (None, 49, 49, 200)       0         \n",
            "_________________________________________________________________\n",
            "conv2d_2 (Conv2D)            (None, 47, 47, 100)       180100    \n",
            "_________________________________________________________________\n",
            "activation_2 (Activation)    (None, 47, 47, 100)       0         \n",
            "_________________________________________________________________\n",
            "max_pooling2d_2 (MaxPooling2 (None, 23, 23, 100)       0         \n",
            "_________________________________________________________________\n",
            "flatten_1 (Flatten)          (None, 52900)             0         \n",
            "_________________________________________________________________\n",
            "dropout_1 (Dropout)          (None, 52900)             0         \n",
            "_________________________________________________________________\n",
            "dense_1 (Dense)              (None, 50)                2645050   \n",
            "_________________________________________________________________\n",
            "dense_2 (Dense)              (None, 2)                 102       \n",
            "=================================================================\n",
            "Total params: 2,827,252\n",
            "Trainable params: 2,827,252\n",
            "Non-trainable params: 0\n",
            "_________________________________________________________________\n"
          ],
          "name": "stdout"
        }
      ]
    },
    {
      "cell_type": "code",
      "metadata": {
        "id": "IXEUrJJwYC-z",
        "colab_type": "code",
        "colab": {}
      },
      "source": [
        "X_train, X_test, y_train, y_test = train_test_split(data, new_target, test_size=0.1, random_state=42)"
      ],
      "execution_count": null,
      "outputs": []
    },
    {
      "cell_type": "code",
      "metadata": {
        "id": "Mf8duWvbgMd_",
        "colab_type": "code",
        "colab": {
          "base_uri": "https://localhost:8080/",
          "height": 34
        },
        "outputId": "903dfa90-6ab0-4572-9b57-8f68f565515c"
      },
      "source": [
        "X_train.shape, y_train.shape, y_test.shape, X_test.shape"
      ],
      "execution_count": null,
      "outputs": [
        {
          "output_type": "execute_result",
          "data": {
            "text/plain": [
              "((1238, 100, 100, 1), (1238, 2), (138, 2), (138, 100, 100, 1))"
            ]
          },
          "metadata": {
            "tags": []
          },
          "execution_count": 17
        }
      ]
    },
    {
      "cell_type": "code",
      "metadata": {
        "id": "dT6Ywp4LhcK-",
        "colab_type": "code",
        "colab": {
          "base_uri": "https://localhost:8080/",
          "height": 187
        },
        "outputId": "ce045bb6-be2c-42be-a83a-101f82ef92d2"
      },
      "source": [
        "y_train[0:10]"
      ],
      "execution_count": null,
      "outputs": [
        {
          "output_type": "execute_result",
          "data": {
            "text/plain": [
              "array([[1., 0.],\n",
              "       [1., 0.],\n",
              "       [0., 1.],\n",
              "       [1., 0.],\n",
              "       [1., 0.],\n",
              "       [0., 1.],\n",
              "       [0., 1.],\n",
              "       [0., 1.],\n",
              "       [0., 1.],\n",
              "       [0., 1.]], dtype=float32)"
            ]
          },
          "metadata": {
            "tags": []
          },
          "execution_count": 19
        }
      ]
    },
    {
      "cell_type": "code",
      "metadata": {
        "id": "JrSEEAd_YDBk",
        "colab_type": "code",
        "colab": {
          "base_uri": "https://localhost:8080/",
          "height": 734
        },
        "outputId": "8cfdc28b-85fa-4471-9ac6-63986118419a"
      },
      "source": [
        "checkpoint = ModelCheckpoint('/content/drive/My Drive/Face_Mask_Detection/model-{epoch:03d}.model',monitor='val_loss',verbose=0,save_best_only=True,mode='auto')\n",
        "history=model.fit(X_train,y_train,epochs=20,callbacks=[checkpoint],validation_split=0.2)"
      ],
      "execution_count": null,
      "outputs": [
        {
          "output_type": "stream",
          "text": [
            "Train on 990 samples, validate on 248 samples\n",
            "Epoch 1/20\n",
            "990/990 [==============================] - 7s 7ms/step - loss: 0.7165 - accuracy: 0.5222 - val_loss: 0.6782 - val_accuracy: 0.4879\n",
            "Epoch 2/20\n",
            "990/990 [==============================] - 1s 751us/step - loss: 0.5907 - accuracy: 0.6778 - val_loss: 0.5300 - val_accuracy: 0.7419\n",
            "Epoch 3/20\n",
            "990/990 [==============================] - 1s 754us/step - loss: 0.4209 - accuracy: 0.8182 - val_loss: 0.3979 - val_accuracy: 0.8427\n",
            "Epoch 4/20\n",
            "990/990 [==============================] - 1s 763us/step - loss: 0.3262 - accuracy: 0.8657 - val_loss: 0.3378 - val_accuracy: 0.8387\n",
            "Epoch 5/20\n",
            "990/990 [==============================] - 1s 760us/step - loss: 0.2181 - accuracy: 0.9202 - val_loss: 0.2455 - val_accuracy: 0.8911\n",
            "Epoch 6/20\n",
            "990/990 [==============================] - 1s 765us/step - loss: 0.1779 - accuracy: 0.9374 - val_loss: 0.2273 - val_accuracy: 0.9032\n",
            "Epoch 7/20\n",
            "990/990 [==============================] - 1s 757us/step - loss: 0.1192 - accuracy: 0.9596 - val_loss: 0.2593 - val_accuracy: 0.9113\n",
            "Epoch 8/20\n",
            "990/990 [==============================] - 1s 757us/step - loss: 0.1384 - accuracy: 0.9495 - val_loss: 0.2032 - val_accuracy: 0.9234\n",
            "Epoch 9/20\n",
            "990/990 [==============================] - 1s 740us/step - loss: 0.0826 - accuracy: 0.9768 - val_loss: 0.2040 - val_accuracy: 0.9274\n",
            "Epoch 10/20\n",
            "990/990 [==============================] - 1s 752us/step - loss: 0.0695 - accuracy: 0.9747 - val_loss: 0.1801 - val_accuracy: 0.9234\n",
            "Epoch 11/20\n",
            "990/990 [==============================] - 1s 764us/step - loss: 0.0687 - accuracy: 0.9717 - val_loss: 0.3080 - val_accuracy: 0.9194\n",
            "Epoch 12/20\n",
            "990/990 [==============================] - 1s 765us/step - loss: 0.0681 - accuracy: 0.9747 - val_loss: 0.2315 - val_accuracy: 0.9234\n",
            "Epoch 13/20\n",
            "990/990 [==============================] - 1s 755us/step - loss: 0.0434 - accuracy: 0.9859 - val_loss: 0.1871 - val_accuracy: 0.9435\n",
            "Epoch 14/20\n",
            "990/990 [==============================] - 1s 873us/step - loss: 0.0269 - accuracy: 0.9929 - val_loss: 0.3281 - val_accuracy: 0.9194\n",
            "Epoch 15/20\n",
            "990/990 [==============================] - 1s 791us/step - loss: 0.0374 - accuracy: 0.9879 - val_loss: 0.2552 - val_accuracy: 0.9274\n",
            "Epoch 16/20\n",
            "990/990 [==============================] - 1s 769us/step - loss: 0.0253 - accuracy: 0.9919 - val_loss: 0.2425 - val_accuracy: 0.9274\n",
            "Epoch 17/20\n",
            "990/990 [==============================] - 1s 755us/step - loss: 0.0241 - accuracy: 0.9899 - val_loss: 0.2331 - val_accuracy: 0.9355\n",
            "Epoch 18/20\n",
            "990/990 [==============================] - 1s 754us/step - loss: 0.0192 - accuracy: 0.9960 - val_loss: 0.2470 - val_accuracy: 0.9315\n",
            "Epoch 19/20\n",
            "990/990 [==============================] - 1s 757us/step - loss: 0.0174 - accuracy: 0.9919 - val_loss: 0.2107 - val_accuracy: 0.9395\n",
            "Epoch 20/20\n",
            "990/990 [==============================] - 1s 744us/step - loss: 0.0140 - accuracy: 0.9970 - val_loss: 0.2820 - val_accuracy: 0.9315\n"
          ],
          "name": "stdout"
        }
      ]
    },
    {
      "cell_type": "code",
      "metadata": {
        "id": "AZ6bCDO0YDF-",
        "colab_type": "code",
        "colab": {
          "base_uri": "https://localhost:8080/",
          "height": 279
        },
        "outputId": "356b94bb-505d-45f0-ce7c-a2a60865075c"
      },
      "source": [
        "# loss plots\n",
        "plt.plot(history.history['loss'],'r',label='training loss')\n",
        "plt.plot(history.history['val_loss'],label='validation loss')\n",
        "plt.xlabel('# epochs')\n",
        "plt.ylabel('loss')\n",
        "plt.legend()\n",
        "plt.show()"
      ],
      "execution_count": null,
      "outputs": [
        {
          "output_type": "display_data",
          "data": {
            "image/png": "[encoded data removed]",
            "text/plain": [
              "<Figure size 432x288 with 1 Axes>"
            ]
          },
          "metadata": {
            "tags": [],
            "needs_background": "light"
          }
        }
      ]
    },
    {
      "cell_type": "code",
      "metadata": {
        "id": "nJGpwkCyewex",
        "colab_type": "code",
        "colab": {
          "base_uri": "https://localhost:8080/",
          "height": 279
        },
        "outputId": "464f6950-e349-43a9-8127-89916270df8b"
      },
      "source": [
        "# accuracy plots\n",
        "plt.plot(history.history['accuracy'],'r',label='training accuracy')\n",
        "plt.plot(history.history['val_accuracy'],label='validation accuracy')\n",
        "plt.xlabel('# epochs')\n",
        "plt.ylabel('loss')\n",
        "plt.legend()\n",
        "plt.show()"
      ],
      "execution_count": null,
      "outputs": [
        {
          "output_type": "display_data",
          "data": {
            "image/png": "[encoded data removed]",
            "text/plain": [
              "<Figure size 432x288 with 1 Axes>"
            ]
          },
          "metadata": {
            "tags": [],
            "needs_background": "light"
          }
        }
      ]
    },
    {
      "cell_type": "code",
      "metadata": {
        "id": "wE0dBKfpewj7",
        "colab_type": "code",
        "colab": {
          "base_uri": "https://localhost:8080/",
          "height": 51
        },
        "outputId": "898460c1-172d-460d-9501-5a1a3f595842"
      },
      "source": [
        "print(model.evaluate(X_test,y_test))"
      ],
      "execution_count": null,
      "outputs": [
        {
          "output_type": "stream",
          "text": [
            "138/138 [==============================] - 0s 579us/step\n",
            "[0.1824217522686619, 0.9637681245803833]\n"
          ],
          "name": "stdout"
        }
      ]
    },
    {
      "cell_type": "code",
      "metadata": {
        "id": "9gGV4uQRXzGQ",
        "colab_type": "code",
        "colab": {}
      },
      "source": [
        ""
      ],
      "execution_count": null,
      "outputs": []
    },
    {
      "cell_type": "code",
      "metadata": {
        "id": "Q_aOxvNditCE",
        "colab_type": "code",
        "colab": {}
      },
      "source": [
        ""
      ],
      "execution_count": null,
      "outputs": []
    },
    {
      "cell_type": "code",
      "metadata": {
        "id": "oWBCPrTqdovo",
        "colab_type": "code",
        "colab": {
          "base_uri": "https://localhost:8080/",
          "height": 187
        },
        "outputId": "4ac48d42-0bdc-4d82-fbd5-4fecf8d53022"
      },
      "source": [
        "#pip show keras"
      ],
      "execution_count": null,
      "outputs": [
        {
          "output_type": "stream",
          "text": [
            "Name: Keras\n",
            "Version: 2.3.1\n",
            "Summary: Deep Learning for humans\n",
            "Home-page: https://github.com/keras-team/keras\n",
            "Author: Francois Chollet\n",
            "Author-email: francois.chollet@gmail.com\n",
            "License: MIT\n",
            "Location: /usr/local/lib/python3.6/dist-packages\n",
            "Requires: numpy, keras-applications, six, scipy, pyyaml, h5py, keras-preprocessing\n",
            "Required-by: textgenrnn, keras-vis, kapre, fancyimpute\n"
          ],
          "name": "stdout"
        }
      ]
    },
    {
      "cell_type": "code",
      "metadata": {
        "id": "rWmPcGPZhN6X",
        "colab_type": "code",
        "colab": {}
      },
      "source": [
        ""
      ],
      "execution_count": null,
      "outputs": []
    }
  ]
}